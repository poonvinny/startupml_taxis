{
 "cells": [
  {
   "cell_type": "code",
   "execution_count": 1,
   "metadata": {
    "collapsed": false
   },
   "outputs": [
    {
     "name": "stderr",
     "output_type": "stream",
     "text": [
      "C:\\Users\\vpoon\\Anaconda3\\lib\\site-packages\\numpy\\lib\\npyio.py:1487: UserWarning: genfromtxt: Empty input file: \"10115.txt\"\n",
      "  warnings.warn('genfromtxt: Empty input file: \"%s\"' % fname)\n"
     ]
    },
    {
     "name": "stdout",
     "output_type": "stream",
     "text": [
      "Empty file:  10115.txt\n"
     ]
    },
    {
     "name": "stderr",
     "output_type": "stream",
     "text": [
      "C:\\Users\\vpoon\\Anaconda3\\lib\\site-packages\\numpy\\lib\\npyio.py:1487: UserWarning: genfromtxt: Empty input file: \"10352.txt\"\n",
      "  warnings.warn('genfromtxt: Empty input file: \"%s\"' % fname)\n"
     ]
    },
    {
     "name": "stdout",
     "output_type": "stream",
     "text": [
      "Empty file:  10352.txt\n"
     ]
    },
    {
     "name": "stderr",
     "output_type": "stream",
     "text": [
      "C:\\Users\\vpoon\\Anaconda3\\lib\\site-packages\\numpy\\lib\\npyio.py:1487: UserWarning: genfromtxt: Empty input file: \"1089.txt\"\n",
      "  warnings.warn('genfromtxt: Empty input file: \"%s\"' % fname)\n"
     ]
    },
    {
     "name": "stdout",
     "output_type": "stream",
     "text": [
      "Empty file:  1089.txt\n"
     ]
    },
    {
     "name": "stderr",
     "output_type": "stream",
     "text": [
      "C:\\Users\\vpoon\\Anaconda3\\lib\\site-packages\\numpy\\lib\\npyio.py:1487: UserWarning: genfromtxt: Empty input file: \"1497.txt\"\n",
      "  warnings.warn('genfromtxt: Empty input file: \"%s\"' % fname)\n"
     ]
    },
    {
     "name": "stdout",
     "output_type": "stream",
     "text": [
      "Empty file:  1497.txt\n"
     ]
    },
    {
     "name": "stderr",
     "output_type": "stream",
     "text": [
      "C:\\Users\\vpoon\\Anaconda3\\lib\\site-packages\\numpy\\lib\\npyio.py:1487: UserWarning: genfromtxt: Empty input file: \"1947.txt\"\n",
      "  warnings.warn('genfromtxt: Empty input file: \"%s\"' % fname)\n"
     ]
    },
    {
     "name": "stdout",
     "output_type": "stream",
     "text": [
      "Empty file:  1947.txt\n"
     ]
    },
    {
     "name": "stderr",
     "output_type": "stream",
     "text": [
      "C:\\Users\\vpoon\\Anaconda3\\lib\\site-packages\\numpy\\lib\\npyio.py:1487: UserWarning: genfromtxt: Empty input file: \"2929.txt\"\n",
      "  warnings.warn('genfromtxt: Empty input file: \"%s\"' % fname)\n",
      "C:\\Users\\vpoon\\Anaconda3\\lib\\site-packages\\numpy\\lib\\npyio.py:1487: UserWarning: genfromtxt: Empty input file: \"2945.txt\"\n",
      "  warnings.warn('genfromtxt: Empty input file: \"%s\"' % fname)\n",
      "C:\\Users\\vpoon\\Anaconda3\\lib\\site-packages\\numpy\\lib\\npyio.py:1487: UserWarning: genfromtxt: Empty input file: \"295.txt\"\n",
      "  warnings.warn('genfromtxt: Empty input file: \"%s\"' % fname)\n"
     ]
    },
    {
     "name": "stdout",
     "output_type": "stream",
     "text": [
      "Empty file:  2929.txt\n",
      "Empty file:  2945.txt\n",
      "Empty file:  295.txt\n"
     ]
    },
    {
     "name": "stderr",
     "output_type": "stream",
     "text": [
      "C:\\Users\\vpoon\\Anaconda3\\lib\\site-packages\\numpy\\lib\\npyio.py:1487: UserWarning: genfromtxt: Empty input file: \"3050.txt\"\n",
      "  warnings.warn('genfromtxt: Empty input file: \"%s\"' % fname)\n"
     ]
    },
    {
     "name": "stdout",
     "output_type": "stream",
     "text": [
      "Empty file:  3050.txt\n"
     ]
    },
    {
     "name": "stderr",
     "output_type": "stream",
     "text": [
      "C:\\Users\\vpoon\\Anaconda3\\lib\\site-packages\\numpy\\lib\\npyio.py:1487: UserWarning: genfromtxt: Empty input file: \"3160.txt\"\n",
      "  warnings.warn('genfromtxt: Empty input file: \"%s\"' % fname)\n"
     ]
    },
    {
     "name": "stdout",
     "output_type": "stream",
     "text": [
      "Empty file:  3160.txt\n"
     ]
    },
    {
     "name": "stderr",
     "output_type": "stream",
     "text": [
      "C:\\Users\\vpoon\\Anaconda3\\lib\\site-packages\\numpy\\lib\\npyio.py:1487: UserWarning: genfromtxt: Empty input file: \"3194.txt\"\n",
      "  warnings.warn('genfromtxt: Empty input file: \"%s\"' % fname)\n"
     ]
    },
    {
     "name": "stdout",
     "output_type": "stream",
     "text": [
      "Empty file:  3194.txt\n"
     ]
    },
    {
     "name": "stderr",
     "output_type": "stream",
     "text": [
      "C:\\Users\\vpoon\\Anaconda3\\lib\\site-packages\\numpy\\lib\\npyio.py:1487: UserWarning: genfromtxt: Empty input file: \"3950.txt\"\n",
      "  warnings.warn('genfromtxt: Empty input file: \"%s\"' % fname)\n"
     ]
    },
    {
     "name": "stdout",
     "output_type": "stream",
     "text": [
      "Empty file:  3950.txt\n"
     ]
    },
    {
     "name": "stderr",
     "output_type": "stream",
     "text": [
      "C:\\Users\\vpoon\\Anaconda3\\lib\\site-packages\\numpy\\lib\\npyio.py:1487: UserWarning: genfromtxt: Empty input file: \"5972.txt\"\n",
      "  warnings.warn('genfromtxt: Empty input file: \"%s\"' % fname)\n"
     ]
    },
    {
     "name": "stdout",
     "output_type": "stream",
     "text": [
      "Empty file:  5972.txt\n"
     ]
    },
    {
     "name": "stderr",
     "output_type": "stream",
     "text": [
      "C:\\Users\\vpoon\\Anaconda3\\lib\\site-packages\\numpy\\lib\\npyio.py:1487: UserWarning: genfromtxt: Empty input file: \"6030.txt\"\n",
      "  warnings.warn('genfromtxt: Empty input file: \"%s\"' % fname)\n"
     ]
    },
    {
     "name": "stdout",
     "output_type": "stream",
     "text": [
      "Empty file:  6030.txt\n"
     ]
    },
    {
     "name": "stderr",
     "output_type": "stream",
     "text": [
      "C:\\Users\\vpoon\\Anaconda3\\lib\\site-packages\\numpy\\lib\\npyio.py:1487: UserWarning: genfromtxt: Empty input file: \"6236.txt\"\n",
      "  warnings.warn('genfromtxt: Empty input file: \"%s\"' % fname)\n"
     ]
    },
    {
     "name": "stdout",
     "output_type": "stream",
     "text": [
      "Empty file:  6236.txt\n"
     ]
    },
    {
     "name": "stderr",
     "output_type": "stream",
     "text": [
      "C:\\Users\\vpoon\\Anaconda3\\lib\\site-packages\\numpy\\lib\\npyio.py:1487: UserWarning: genfromtxt: Empty input file: \"6322.txt\"\n",
      "  warnings.warn('genfromtxt: Empty input file: \"%s\"' % fname)\n"
     ]
    },
    {
     "name": "stdout",
     "output_type": "stream",
     "text": [
      "Empty file:  6322.txt\n"
     ]
    },
    {
     "name": "stderr",
     "output_type": "stream",
     "text": [
      "C:\\Users\\vpoon\\Anaconda3\\lib\\site-packages\\numpy\\lib\\npyio.py:1487: UserWarning: genfromtxt: Empty input file: \"6717.txt\"\n",
      "  warnings.warn('genfromtxt: Empty input file: \"%s\"' % fname)\n"
     ]
    },
    {
     "name": "stdout",
     "output_type": "stream",
     "text": [
      "Empty file:  6717.txt\n"
     ]
    },
    {
     "name": "stderr",
     "output_type": "stream",
     "text": [
      "C:\\Users\\vpoon\\Anaconda3\\lib\\site-packages\\numpy\\lib\\npyio.py:1487: UserWarning: genfromtxt: Empty input file: \"7583.txt\"\n",
      "  warnings.warn('genfromtxt: Empty input file: \"%s\"' % fname)\n"
     ]
    },
    {
     "name": "stdout",
     "output_type": "stream",
     "text": [
      "Empty file:  7583.txt\n"
     ]
    },
    {
     "name": "stderr",
     "output_type": "stream",
     "text": [
      "C:\\Users\\vpoon\\Anaconda3\\lib\\site-packages\\numpy\\lib\\npyio.py:1487: UserWarning: genfromtxt: Empty input file: \"8209.txt\"\n",
      "  warnings.warn('genfromtxt: Empty input file: \"%s\"' % fname)\n"
     ]
    },
    {
     "name": "stdout",
     "output_type": "stream",
     "text": [
      "Empty file:  8209.txt\n"
     ]
    },
    {
     "name": "stderr",
     "output_type": "stream",
     "text": [
      "C:\\Users\\vpoon\\Anaconda3\\lib\\site-packages\\numpy\\lib\\npyio.py:1487: UserWarning: genfromtxt: Empty input file: \"8424.txt\"\n",
      "  warnings.warn('genfromtxt: Empty input file: \"%s\"' % fname)\n"
     ]
    },
    {
     "name": "stdout",
     "output_type": "stream",
     "text": [
      "Empty file:  8424.txt\n"
     ]
    },
    {
     "name": "stderr",
     "output_type": "stream",
     "text": [
      "C:\\Users\\vpoon\\Anaconda3\\lib\\site-packages\\numpy\\lib\\npyio.py:1487: UserWarning: genfromtxt: Empty input file: \"9874.txt\"\n",
      "  warnings.warn('genfromtxt: Empty input file: \"%s\"' % fname)\n"
     ]
    },
    {
     "name": "stdout",
     "output_type": "stream",
     "text": [
      "Empty file:  9874.txt\n",
      "Empty file:  results.mat\n",
      "Empty file:  time_interval.fig\n"
     ]
    }
   ],
   "source": [
    "import numpy as np\n",
    "import matplotlib.pyplot as plt\n",
    "from datetime import datetime, date, time\n",
    "import csv\n",
    "import geo_distance\n",
    "import os\n",
    "import sys\n",
    "import math\n",
    "\n",
    "def calc_time(timeStr):\n",
    "    tS = str(timeStr[0])\n",
    "    tS = tS[2:-1]\n",
    "    tLast = datetime.strptime(tS,'%Y-%m-%d %H:%M:%S')\n",
    "    n = len(timeStr)\n",
    "    #print(n)\n",
    "    time_int = np.zeros(n-1)\n",
    "    for i in range(1,n):\n",
    "        tS = str(timeStr[i])\n",
    "        tS = tS[2:-1]\n",
    "        tCurr = datetime.strptime(tS,'%Y-%m-%d %H:%M:%S')\n",
    "        tDiff = tCurr-tLast\n",
    "        tLast = tCurr\n",
    "        time_int[i-1] = tDiff.total_seconds()\n",
    "    return time_int\n",
    "\n",
    "def distance(lat1, long1, lat2, long2):\n",
    "    R = 6371 # Earth Radius in Km\n",
    "    dLat = math.radians(lat2 - lat1) # Convert Degrees 2 Radians\n",
    "    dLong = math.radians(long2 - long1)\n",
    "    lat1 = math.radians(lat1)\n",
    "    lat2 = math.radians(lat2)\n",
    "    a = math.sin(dLat/2) * math.sin(dLat/2) + math.sin(dLong/2) * math.sin(dLong/2) * math.cos(lat1) * math.cos(lat2)\n",
    "    c = 2 * math.atan2(math.sqrt(a), math.sqrt(1-a))\n",
    "    d = R * c\n",
    "    return d\n",
    "\n",
    "if __name__ == '__main__':\n",
    "    path = 'C:/Users/vpoon/Documents/StartupML/'\n",
    "    folders = ['06','07','08','09','010','011','012','013','014'];\n",
    "    #folders = ['06'];\n",
    "\n",
    "    time_record = np.empty([0])\n",
    "    distance_record = np.empty([0])\n",
    "\n",
    "    cntFiles = 0\n",
    "    fileList = []\n",
    "    cntPts = 0\n",
    "    for folder in folders:\n",
    "        #print(folder)\n",
    "        os.chdir(path+folder)\n",
    "        dirs = os.listdir(path+folder)\n",
    "        for file in dirs:\n",
    "            cntFiles += 1\n",
    "            fileList.append(file)\n",
    "            #Do not calculate time and distance intervals if there is only a single record or if file is empty\n",
    "            try:\n",
    "                data = np.genfromtxt(file, dtype = None, names = ['taxi','time','longitude','latitude'], delimiter=',')\n",
    "            except:\n",
    "                print('Empty file: ', file)\n",
    "                continue\n",
    "                \n",
    "            cntPts += data.size\n",
    "            if data.size>1:\n",
    "                #calc time intervals in file\n",
    "                temp = calc_time(data['time']) \n",
    "                time_record = np.append(time_record,temp)\n",
    "            \n",
    "                #calc distances in file\n",
    "                long1 = data['longitude'][0]\n",
    "                lat1 = data['latitude'][0]\n",
    "                n = len(data)\n",
    "                dis = np.zeros(n-1)\n",
    "                for i in range(1,n):\n",
    "                    long2 = data['longitude'][i]\n",
    "                    lat2 = data['latitude'][i]\n",
    "                    dis[i-1] = distance(lat1, long1, lat2, long2)\n",
    "                    long1 = long2\n",
    "                    lat1 = lat2\n",
    "                distance_record = np.append(distance_record, dis)\n",
    "        \n",
    "            #translate GPS points into grid for intensity plot\n",
    "\n",
    "    #print(time_record.size)\n",
    "    #print(distance_record.size)\n",
    "        "
   ]
  },
  {
   "cell_type": "code",
   "execution_count": 5,
   "metadata": {
    "collapsed": false,
    "scrolled": true
   },
   "outputs": [
    {
     "data": {
      "image/png": "[encoded data removed]",
      "text/plain": [
       "<matplotlib.figure.Figure at 0x4db2320>"
      ]
     },
     "metadata": {},
     "output_type": "display_data"
    },
    {
     "data": {
      "image/png": "[encoded data removed]",
      "text/plain": [
       "<matplotlib.figure.Figure at 0x821dbe0>"
      ]
     },
     "metadata": {},
     "output_type": "display_data"
    }
   ],
   "source": [
    "#plot time\n",
    "xMax = 12\n",
    "numBins = 24\n",
    "time_int = time_record/60\n",
    "time_int = time_int[time_int<=xMax]\n",
    "hist, bin_edges = np.histogram(time_int,bins=numBins)\n",
    "plt.bar(bin_edges[:-1],hist/sum(hist),width=xMax/numBins)\n",
    "plt.xlabel('minutes')\n",
    "plt.ylabel('proportion')\n",
    "plt.title('time interval')\n",
    "plt.show()\n",
    "\n",
    "#plot distance\n",
    "xMax = 8000\n",
    "numBins = 16\n",
    "dist_int = distance_record*1000\n",
    "dist_int = dist_int[dist_int<xMax]\n",
    "hist, bin_edges = np.histogram(dist_int,bins=numBins)\n",
    "plt.bar(bin_edges[:-1],hist/sum(hist),width=xMax/numBins)\n",
    "plt.xlabel('meters')\n",
    "plt.ylabel('proportion')\n",
    "plt.title('distance interval')\n",
    "plt.show()"
   ]
  },
  {
   "cell_type": "code",
   "execution_count": 50,
   "metadata": {
    "collapsed": false
   },
   "outputs": [
    {
     "name": "stdout",
     "output_type": "stream",
     "text": [
      "830798\n"
     ]
    }
   ],
   "source": []
  },
  {
   "cell_type": "code",
   "execution_count": 12,
   "metadata": {
    "collapsed": false
   },
   "outputs": [
    {
     "name": "stdout",
     "output_type": "stream",
     "text": [
      "8911\n",
      "8911\n",
      "10088351\n",
      "8911\n"
     ]
    }
   ],
   "source": []
  },
  {
   "cell_type": "code",
   "execution_count": null,
   "metadata": {
    "collapsed": true
   },
   "outputs": [],
   "source": []
  }
 ],
 "metadata": {
  "anaconda-cloud": {},
  "kernelspec": {
   "display_name": "Python [default]",
   "language": "python",
   "name": "python3"
  },
  "language_info": {
   "codemirror_mode": {
    "name": "ipython",
    "version": 3
   },
   "file_extension": ".py",
   "mimetype": "text/x-python",
   "name": "python",
   "nbconvert_exporter": "python",
   "pygments_lexer": "ipython3",
   "version": "3.5.2"
  }
 },
 "nbformat": 4,
 "nbformat_minor": 1
}
